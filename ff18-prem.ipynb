{
 "cells": [
  {
   "cell_type": "code",
   "execution_count": 1,
   "metadata": {},
   "outputs": [],
   "source": [
    "import math\n",
    "import numpy as np\n",
    "import pandas as pd\n",
    "import matplotlib as mpl\n",
    "import matplotlib.pyplot as plt"
   ]
  },
  {
   "cell_type": "code",
   "execution_count": 2,
   "metadata": {},
   "outputs": [],
   "source": [
    "interesting_columns = [\n",
    "    'Name', \n",
    "    'Age',  \n",
    "    'Nationality', \n",
    "    'Overall', \n",
    "    'Potential', \n",
    "    'Club', \n",
    "    'Value', \n",
    "    'Wage', \n",
    "    'Position'\n",
    "]"
   ]
  },
  {
   "cell_type": "code",
   "execution_count": 3,
   "metadata": {
    "scrolled": true
   },
   "outputs": [],
   "source": [
    "FF18 = pd.read_csv('data/Dataset.csv')\n",
    "premier_league = pd.read_csv('data/premier-league-teams-2019.csv', header=0, index_col=0)"
   ]
  },
  {
   "cell_type": "code",
   "execution_count": 4,
   "metadata": {},
   "outputs": [
    {
     "data": {
      "text/html": [
       "<div>\n",
       "<style scoped>\n",
       "    .dataframe tbody tr th:only-of-type {\n",
       "        vertical-align: middle;\n",
       "    }\n",
       "\n",
       "    .dataframe tbody tr th {\n",
       "        vertical-align: top;\n",
       "    }\n",
       "\n",
       "    .dataframe thead th {\n",
       "        text-align: right;\n",
       "    }\n",
       "</style>\n",
       "<table border=\"1\" class=\"dataframe\">\n",
       "  <thead>\n",
       "    <tr style=\"text-align: right;\">\n",
       "      <th></th>\n",
       "      <th>0</th>\n",
       "    </tr>\n",
       "  </thead>\n",
       "  <tbody>\n",
       "    <tr>\n",
       "      <th>Name</th>\n",
       "      <td>T. Pukki</td>\n",
       "    </tr>\n",
       "    <tr>\n",
       "      <th>Age</th>\n",
       "      <td>28</td>\n",
       "    </tr>\n",
       "    <tr>\n",
       "      <th>Nationality</th>\n",
       "      <td>Finland</td>\n",
       "    </tr>\n",
       "    <tr>\n",
       "      <th>Overall</th>\n",
       "      <td>76</td>\n",
       "    </tr>\n",
       "    <tr>\n",
       "      <th>Potential</th>\n",
       "      <td>76</td>\n",
       "    </tr>\n",
       "    <tr>\n",
       "      <th>Club</th>\n",
       "      <td>Norwich City</td>\n",
       "    </tr>\n",
       "    <tr>\n",
       "      <th>Value</th>\n",
       "      <td>€8M</td>\n",
       "    </tr>\n",
       "    <tr>\n",
       "      <th>Wage</th>\n",
       "      <td>€32K</td>\n",
       "    </tr>\n",
       "    <tr>\n",
       "      <th>Position</th>\n",
       "      <td>ST|CF</td>\n",
       "    </tr>\n",
       "  </tbody>\n",
       "</table>\n",
       "</div>"
      ],
      "text/plain": [
       "                        0\n",
       "Name             T. Pukki\n",
       "Age                    28\n",
       "Nationality       Finland\n",
       "Overall                76\n",
       "Potential              76\n",
       "Club         Norwich City\n",
       "Value                 €8M\n",
       "Wage                 €32K\n",
       "Position            ST|CF"
      ]
     },
     "execution_count": 4,
     "metadata": {},
     "output_type": "execute_result"
    }
   ],
   "source": [
    "FF18 = pd.DataFrame(FF18, columns=interesting_columns)\n",
    "FF18.head(1).T"
   ]
  },
  {
   "cell_type": "code",
   "execution_count": 5,
   "metadata": {},
   "outputs": [
    {
     "data": {
      "text/html": [
       "<div>\n",
       "<style scoped>\n",
       "    .dataframe tbody tr th:only-of-type {\n",
       "        vertical-align: middle;\n",
       "    }\n",
       "\n",
       "    .dataframe tbody tr th {\n",
       "        vertical-align: top;\n",
       "    }\n",
       "\n",
       "    .dataframe thead th {\n",
       "        text-align: right;\n",
       "    }\n",
       "</style>\n",
       "<table border=\"1\" class=\"dataframe\">\n",
       "  <thead>\n",
       "    <tr style=\"text-align: right;\">\n",
       "      <th></th>\n",
       "      <th>Name</th>\n",
       "      <th>Age</th>\n",
       "      <th>Nationality</th>\n",
       "      <th>Overall</th>\n",
       "      <th>Potential</th>\n",
       "      <th>Club</th>\n",
       "      <th>Value</th>\n",
       "      <th>Wage</th>\n",
       "      <th>Position</th>\n",
       "      <th>League</th>\n",
       "    </tr>\n",
       "  </thead>\n",
       "  <tbody>\n",
       "    <tr>\n",
       "      <th>0</th>\n",
       "      <td>T. Pukki</td>\n",
       "      <td>28</td>\n",
       "      <td>Finland</td>\n",
       "      <td>76</td>\n",
       "      <td>76</td>\n",
       "      <td>Norwich City</td>\n",
       "      <td>€8M</td>\n",
       "      <td>€32K</td>\n",
       "      <td>ST|CF</td>\n",
       "      <td>English Premier League</td>\n",
       "    </tr>\n",
       "    <tr>\n",
       "      <th>1</th>\n",
       "      <td>T. Cantwell</td>\n",
       "      <td>20</td>\n",
       "      <td>England</td>\n",
       "      <td>67</td>\n",
       "      <td>78</td>\n",
       "      <td>Norwich City</td>\n",
       "      <td>€1.3M</td>\n",
       "      <td>€7K</td>\n",
       "      <td>LM|CAM</td>\n",
       "      <td>English Premier League</td>\n",
       "    </tr>\n",
       "    <tr>\n",
       "      <th>2</th>\n",
       "      <td>M. Aarons</td>\n",
       "      <td>18</td>\n",
       "      <td>England</td>\n",
       "      <td>71</td>\n",
       "      <td>85</td>\n",
       "      <td>Norwich City</td>\n",
       "      <td>€4.4M</td>\n",
       "      <td>€7K</td>\n",
       "      <td>RB</td>\n",
       "      <td>English Premier League</td>\n",
       "    </tr>\n",
       "  </tbody>\n",
       "</table>\n",
       "</div>"
      ],
      "text/plain": [
       "          Name  Age Nationality  Overall  Potential          Club  Value  \\\n",
       "0     T. Pukki   28     Finland       76         76  Norwich City    €8M   \n",
       "1  T. Cantwell   20     England       67         78  Norwich City  €1.3M   \n",
       "2    M. Aarons   18     England       71         85  Norwich City  €4.4M   \n",
       "\n",
       "   Wage Position                  League  \n",
       "0  €32K    ST|CF  English Premier League  \n",
       "1   €7K   LM|CAM  English Premier League  \n",
       "2   €7K       RB  English Premier League  "
      ]
     },
     "execution_count": 5,
     "metadata": {},
     "output_type": "execute_result"
    }
   ],
   "source": [
    "premier_league['League'] = 'English Premier League'\n",
    "prem_teams = FF18.merge(premier_league, on=[\"Club\"])\n",
    "prem_teams = prem_teams[prem_teams.Club.isin(premier_league.Club)]\n",
    "FF18 = prem_teams\n",
    "FF18.head(3)"
   ]
  },
  {
   "cell_type": "code",
   "execution_count": 6,
   "metadata": {},
   "outputs": [],
   "source": [
    "FF18.fillna(value=0, inplace=True)\n",
    "FF18.dropna(inplace=True)"
   ]
  },
  {
   "cell_type": "code",
   "execution_count": 7,
   "metadata": {},
   "outputs": [],
   "source": [
    "# Supporting function for converting string values into numbers\n",
    "import re\n",
    "def str2number(amount):\n",
    "    if amount[-1] == 'M':\n",
    "        amount = float(re.sub('[^\\d\\.]', '', amount))\n",
    "        return float(amount)*1000000\n",
    "    elif amount[-1] == 'K':\n",
    "        amount = float(re.sub('[^\\d\\.]', '', amount))\n",
    "        return float(amount)*1000\n",
    "    else:\n",
    "        amount = float(re.sub('[^\\d\\.]', '', amount))\n",
    "        return float(amount)\n",
    "    \n",
    "FF18['ValueNum'] = FF18['Value'].apply(lambda x: str2number(x))\n",
    "FF18['WageNum'] = FF18['Wage'].apply(lambda x: str2number(x))"
   ]
  },
  {
   "cell_type": "code",
   "execution_count": 8,
   "metadata": {},
   "outputs": [
    {
     "data": {
      "text/html": [
       "<div>\n",
       "<style scoped>\n",
       "    .dataframe tbody tr th:only-of-type {\n",
       "        vertical-align: middle;\n",
       "    }\n",
       "\n",
       "    .dataframe tbody tr th {\n",
       "        vertical-align: top;\n",
       "    }\n",
       "\n",
       "    .dataframe thead th {\n",
       "        text-align: right;\n",
       "    }\n",
       "</style>\n",
       "<table border=\"1\" class=\"dataframe\">\n",
       "  <thead>\n",
       "    <tr style=\"text-align: right;\">\n",
       "      <th></th>\n",
       "      <th>0</th>\n",
       "    </tr>\n",
       "  </thead>\n",
       "  <tbody>\n",
       "    <tr>\n",
       "      <th>Name</th>\n",
       "      <td>T. Pukki</td>\n",
       "    </tr>\n",
       "    <tr>\n",
       "      <th>Age</th>\n",
       "      <td>28</td>\n",
       "    </tr>\n",
       "    <tr>\n",
       "      <th>Nationality</th>\n",
       "      <td>Finland</td>\n",
       "    </tr>\n",
       "    <tr>\n",
       "      <th>Overall</th>\n",
       "      <td>76</td>\n",
       "    </tr>\n",
       "    <tr>\n",
       "      <th>Potential</th>\n",
       "      <td>76</td>\n",
       "    </tr>\n",
       "    <tr>\n",
       "      <th>Club</th>\n",
       "      <td>Norwich City</td>\n",
       "    </tr>\n",
       "    <tr>\n",
       "      <th>Value</th>\n",
       "      <td>€8M</td>\n",
       "    </tr>\n",
       "    <tr>\n",
       "      <th>Wage</th>\n",
       "      <td>€32K</td>\n",
       "    </tr>\n",
       "    <tr>\n",
       "      <th>Position</th>\n",
       "      <td>ST|CF</td>\n",
       "    </tr>\n",
       "    <tr>\n",
       "      <th>League</th>\n",
       "      <td>English Premier League</td>\n",
       "    </tr>\n",
       "    <tr>\n",
       "      <th>ValueNum</th>\n",
       "      <td>8e+06</td>\n",
       "    </tr>\n",
       "    <tr>\n",
       "      <th>WageNum</th>\n",
       "      <td>32000</td>\n",
       "    </tr>\n",
       "  </tbody>\n",
       "</table>\n",
       "</div>"
      ],
      "text/plain": [
       "                                  0\n",
       "Name                       T. Pukki\n",
       "Age                              28\n",
       "Nationality                 Finland\n",
       "Overall                          76\n",
       "Potential                        76\n",
       "Club                   Norwich City\n",
       "Value                           €8M\n",
       "Wage                           €32K\n",
       "Position                      ST|CF\n",
       "League       English Premier League\n",
       "ValueNum                      8e+06\n",
       "WageNum                       32000"
      ]
     },
     "execution_count": 8,
     "metadata": {},
     "output_type": "execute_result"
    }
   ],
   "source": [
    "FF18.head(1).T"
   ]
  },
  {
   "cell_type": "code",
   "execution_count": 9,
   "metadata": {
    "scrolled": true
   },
   "outputs": [
    {
     "data": {
      "image/png": "[encoded data removed]",
      "text/plain": [
       "<Figure size 1296x720 with 1 Axes>"
      ]
     },
     "metadata": {
      "needs_background": "light"
     },
     "output_type": "display_data"
    }
   ],
   "source": [
    "plt.figure(figsize=(18, 10))\n",
    "FF18.groupby('Age')['Age'].count().plot(kind='bar', width=1)\n",
    "plt.show()"
   ]
  },
  {
   "cell_type": "code",
   "execution_count": 10,
   "metadata": {},
   "outputs": [
    {
     "data": {
      "image/png": "[encoded data removed]",
      "text/plain": [
       "<Figure size 1152x576 with 1 Axes>"
      ]
     },
     "metadata": {
      "needs_background": "light"
     },
     "output_type": "display_data"
    }
   ],
   "source": [
    "plt.figure(figsize=(16,8))\n",
    "teams = FF18.groupby('League')['Name'].count().reset_index()\n",
    "teams = teams.sort_values('Name', ascending=False).head(10)\n",
    "plt.barh(teams['League'], teams['Name'], align='center', alpha=0.5)\n",
    "plt.title('Top 10 Leagues', fontsize=30)\n",
    "plt.show()"
   ]
  },
  {
   "cell_type": "code",
   "execution_count": 11,
   "metadata": {},
   "outputs": [],
   "source": [
    "def get_best_squad_n(formation, league, measurement = 'Overall'):\n",
    "    FF18_copy = FF18.copy()\n",
    "    FF18_copy = FF18_copy[FF18_copy['League'] == league]\n",
    "    store = []\n",
    "    for i in formation:\n",
    "        store.append([\n",
    "            FF18_copy.loc[[FF18_copy[FF18_copy['Position'].str.contains(i)][measurement].idxmax()]]['Position'].to_string(index = False),\n",
    "            FF18_copy.loc[[FF18_copy[FF18_copy['Position'].str.contains(i)][measurement].idxmax()]]['Name'].to_string(index = False), \n",
    "            FF18_copy[FF18_copy['Position'].str.contains(i)][measurement].max(),\n",
    "            FF18_copy.loc[[FF18_copy[FF18_copy['Position'].str.contains(i)][measurement].idxmax()]]['Age'].to_string(index = False),\n",
    "            FF18_copy.loc[[FF18_copy[FF18_copy['Position'].str.contains(i)][measurement].idxmax()]]['Club'].to_string(index = False),\n",
    "            FF18_copy.loc[[FF18_copy[FF18_copy['Position'].str.contains(i)][measurement].idxmax()]]['Value'].to_string(index = False),\n",
    "            FF18_copy.loc[[FF18_copy[FF18_copy['Position'].str.contains(i)][measurement].idxmax()]]['Wage'].to_string(index = False)\n",
    "        ])\n",
    "        FF18_copy.drop(FF18_copy[FF18_copy['Position'].str.contains(i)][measurement].idxmax(), inplace = True)\n",
    "    return np.mean([x[2] for x in store]).round(2), pd.DataFrame(np.array(store).reshape(11,7), columns = ['Position', 'Player', measurement, 'Age', 'Club', 'Value', 'Wage']).to_string(index = False)"
   ]
  },
  {
   "cell_type": "code",
   "execution_count": 12,
   "metadata": {},
   "outputs": [],
   "source": [
    "def get_summary_n(squad_list, squad_name, league_list):\n",
    "    summary = []\n",
    "    for i in league_list:\n",
    "        count = 0\n",
    "        for j in squad_list:\n",
    "            # for overall rating\n",
    "            O_temp_rating, _  = get_best_squad_n(formation = j, league = i, measurement = 'Overall') \n",
    "            summary.append([i, squad_name[count], O_temp_rating.round(2)])    \n",
    "            count += 1\n",
    "    return summary"
   ]
  },
  {
   "cell_type": "code",
   "execution_count": 13,
   "metadata": {},
   "outputs": [],
   "source": [
    "squad_343_strict = ['GK', 'CB', 'CB', 'CB', 'RB|RWB', 'CM|CDM', 'CM|CDM', 'LB|LWB', 'RM|RW', 'ST|CF', 'LM|LW']\n",
    "squad_442_strict = ['GK', 'RB|RWB', 'CB', 'CB', 'LB|LWB', 'RM', 'CM|CDM', 'CM|CAM', 'LM', 'ST|CF', 'ST|CF']\n",
    "squad_4312_strict = ['GK', 'RB|RWB', 'CB', 'CB', 'LB|LWB', 'CM|CDM', 'CM|CAM|CDM', 'CM|CAM|CDM', 'CAM|CF', 'ST|CF', 'ST|CF']\n",
    "squad_433_strict = ['GK', 'RB|RWB', 'CB', 'CB', 'LB|LWB', 'CM|CDM', 'CM|CAM|CDM', 'CM|CAM|CDM', 'RM|RW', 'ST|CF', 'LM|LW']\n",
    "squad_4231_strict = ['GK', 'RB|RWB', 'CB', 'CB', 'LB|LWB', 'CM|CDM', 'CM|CDM', 'RM|RW', 'CAM', 'LM|LW', 'ST|CF']\n",
    "squad_list = [squad_343_strict, squad_442_strict, squad_4312_strict, squad_433_strict, squad_4231_strict]\n",
    "squad_name = ['3-4-3', '4-4-2', '4-3-1-2', '4-3-3', '4-2-3-1']\n"
   ]
  },
  {
   "cell_type": "code",
   "execution_count": 14,
   "metadata": {},
   "outputs": [
    {
     "data": {
      "text/html": [
       "<div>\n",
       "<style scoped>\n",
       "    .dataframe tbody tr th:only-of-type {\n",
       "        vertical-align: middle;\n",
       "    }\n",
       "\n",
       "    .dataframe tbody tr th {\n",
       "        vertical-align: top;\n",
       "    }\n",
       "\n",
       "    .dataframe thead th {\n",
       "        text-align: right;\n",
       "    }\n",
       "</style>\n",
       "<table border=\"1\" class=\"dataframe\">\n",
       "  <thead>\n",
       "    <tr style=\"text-align: right;\">\n",
       "      <th></th>\n",
       "      <th>Name</th>\n",
       "      <th>Age</th>\n",
       "      <th>Nationality</th>\n",
       "      <th>Overall</th>\n",
       "      <th>Potential</th>\n",
       "      <th>Club</th>\n",
       "      <th>Value</th>\n",
       "      <th>Wage</th>\n",
       "      <th>Position</th>\n",
       "      <th>League</th>\n",
       "      <th>ValueNum</th>\n",
       "      <th>WageNum</th>\n",
       "    </tr>\n",
       "  </thead>\n",
       "  <tbody>\n",
       "    <tr>\n",
       "      <th>0</th>\n",
       "      <td>T. Pukki</td>\n",
       "      <td>28</td>\n",
       "      <td>Finland</td>\n",
       "      <td>76</td>\n",
       "      <td>76</td>\n",
       "      <td>Norwich City</td>\n",
       "      <td>€8M</td>\n",
       "      <td>€32K</td>\n",
       "      <td>ST|CF</td>\n",
       "      <td>English Premier League</td>\n",
       "      <td>8000000.0</td>\n",
       "      <td>32000.0</td>\n",
       "    </tr>\n",
       "    <tr>\n",
       "      <th>1</th>\n",
       "      <td>T. Cantwell</td>\n",
       "      <td>20</td>\n",
       "      <td>England</td>\n",
       "      <td>67</td>\n",
       "      <td>78</td>\n",
       "      <td>Norwich City</td>\n",
       "      <td>€1.3M</td>\n",
       "      <td>€7K</td>\n",
       "      <td>LM|CAM</td>\n",
       "      <td>English Premier League</td>\n",
       "      <td>1300000.0</td>\n",
       "      <td>7000.0</td>\n",
       "    </tr>\n",
       "    <tr>\n",
       "      <th>2</th>\n",
       "      <td>M. Aarons</td>\n",
       "      <td>18</td>\n",
       "      <td>England</td>\n",
       "      <td>71</td>\n",
       "      <td>85</td>\n",
       "      <td>Norwich City</td>\n",
       "      <td>€4.4M</td>\n",
       "      <td>€7K</td>\n",
       "      <td>RB</td>\n",
       "      <td>English Premier League</td>\n",
       "      <td>4400000.0</td>\n",
       "      <td>7000.0</td>\n",
       "    </tr>\n",
       "    <tr>\n",
       "      <th>3</th>\n",
       "      <td>E. Buendía</td>\n",
       "      <td>21</td>\n",
       "      <td>Argentina</td>\n",
       "      <td>74</td>\n",
       "      <td>81</td>\n",
       "      <td>Norwich City</td>\n",
       "      <td>€8M</td>\n",
       "      <td>€19K</td>\n",
       "      <td>RM</td>\n",
       "      <td>English Premier League</td>\n",
       "      <td>8000000.0</td>\n",
       "      <td>19000.0</td>\n",
       "    </tr>\n",
       "    <tr>\n",
       "      <th>4</th>\n",
       "      <td>J. Lewis</td>\n",
       "      <td>20</td>\n",
       "      <td>Northern Ireland</td>\n",
       "      <td>71</td>\n",
       "      <td>82</td>\n",
       "      <td>Norwich City</td>\n",
       "      <td>€3.6M</td>\n",
       "      <td>€12K</td>\n",
       "      <td>LB</td>\n",
       "      <td>English Premier League</td>\n",
       "      <td>3600000.0</td>\n",
       "      <td>12000.0</td>\n",
       "    </tr>\n",
       "  </tbody>\n",
       "</table>\n",
       "</div>"
      ],
      "text/plain": [
       "          Name  Age       Nationality  Overall  Potential          Club  \\\n",
       "0     T. Pukki   28           Finland       76         76  Norwich City   \n",
       "1  T. Cantwell   20           England       67         78  Norwich City   \n",
       "2    M. Aarons   18           England       71         85  Norwich City   \n",
       "3   E. Buendía   21         Argentina       74         81  Norwich City   \n",
       "4     J. Lewis   20  Northern Ireland       71         82  Norwich City   \n",
       "\n",
       "   Value  Wage Position                  League   ValueNum  WageNum  \n",
       "0    €8M  €32K    ST|CF  English Premier League  8000000.0  32000.0  \n",
       "1  €1.3M   €7K   LM|CAM  English Premier League  1300000.0   7000.0  \n",
       "2  €4.4M   €7K       RB  English Premier League  4400000.0   7000.0  \n",
       "3    €8M  €19K       RM  English Premier League  8000000.0  19000.0  \n",
       "4  €3.6M  €12K       LB  English Premier League  3600000.0  12000.0  "
      ]
     },
     "execution_count": 14,
     "metadata": {},
     "output_type": "execute_result"
    }
   ],
   "source": [
    "FF18.head(5)"
   ]
  },
  {
   "cell_type": "code",
   "execution_count": 15,
   "metadata": {},
   "outputs": [
    {
     "name": "stdout",
     "output_type": "stream",
     "text": [
      "              Nationality    Squad Overall\n",
      "0  English Premier League    3-4-3   87.27\n",
      "1  English Premier League    4-4-2   87.45\n",
      "2  English Premier League  4-3-1-2   87.82\n",
      "3  English Premier League    4-3-3   87.64\n",
      "4  English Premier League  4-2-3-1   87.82\n",
      "-Overall-\n",
      "Average rating: 87.6\n",
      "Position            Player Overall  Age                Club    Value    Wage\n",
      "      GK            De Gea      90   27   Manchester United   €62.5M   €215K\n",
      "      RB         K. Walker      84   28     Manchester City   €24.5M   €165K\n",
      "      CB   T. Alderweireld      87   29   Tottenham Hotspur     €39M   €165K\n",
      "      CB     J. Vertonghen      87   31   Tottenham Hotspur     €34M   €155K\n",
      "  LB|LWB     Marcos Alonso      83   27             Chelsea   €21.5M   €130K\n",
      "  CDM|CM          N. Kanté      89   27             Chelsea     €63M   €225K\n",
      "  CM|CAM          P. Pogba      88   25   Manchester United     €73M   €255K\n",
      "  CAM|CM        C. Eriksen      88   26   Tottenham Hotspur   €69.5M   €205K\n",
      "   RW|ST          M. Salah      89   26           Liverpool   €71.5M   €265K\n",
      "   LW|CF         E. Hazard      91   27             Chelsea     €93M   €340K\n",
      "   ST|LM     P. Aubameyang      88   29             Arsenal     €59M   €265K\n"
     ]
    }
   ],
   "source": [
    "for league in teams['League']:\n",
    "    c = pd.DataFrame(np.array(get_summary_n(squad_list, squad_name, [league])), columns = ['Nationality', 'Squad', 'Overall']) \n",
    "    print(c)\n",
    "    rating_433_Overall, best_list_433_Overall = get_best_squad_n(squad_433_strict, league, 'Overall')\n",
    "    print('-Overall-')\n",
    "    print('Average rating: {:.1f}'.format(rating_433_Overall))\n",
    "    print(best_list_433_Overall)\n"
   ]
  },
  {
   "cell_type": "code",
   "execution_count": null,
   "metadata": {},
   "outputs": [],
   "source": []
  }
 ],
 "metadata": {
  "kernelspec": {
   "display_name": "Python 3",
   "language": "python",
   "name": "python3"
  },
  "language_info": {
   "codemirror_mode": {
    "name": "ipython",
    "version": 3
   },
   "file_extension": ".py",
   "mimetype": "text/x-python",
   "name": "python",
   "nbconvert_exporter": "python",
   "pygments_lexer": "ipython3",
   "version": "3.7.3"
  }
 },
 "nbformat": 4,
 "nbformat_minor": 2
}
