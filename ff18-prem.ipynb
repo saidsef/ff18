{
 "cells": [
  {
   "cell_type": "code",
   "execution_count": 31,
   "metadata": {},
   "outputs": [],
   "source": [
    "import math\n",
    "import numpy as np\n",
    "import pandas as pd\n",
    "import matplotlib as mpl\n",
    "import matplotlib.pyplot as plt"
   ]
  },
  {
   "cell_type": "code",
   "execution_count": 32,
   "metadata": {},
   "outputs": [],
   "source": [
    "interesting_columns = [\n",
    "    'Name', \n",
    "    'Age',  \n",
    "    'Nationality', \n",
    "    'Overall', \n",
    "    'Potential', \n",
    "    'Club', \n",
    "    'Value', \n",
    "    'Wage', \n",
    "    'Position'\n",
    "]"
   ]
  },
  {
   "cell_type": "code",
   "execution_count": 33,
   "metadata": {
    "scrolled": true
   },
   "outputs": [],
   "source": [
    "FF18 = pd.read_csv('data/Dataset.csv')\n",
    "premier_league = pd.read_csv('data/premier-league-teams-2019.csv', header=0, index_col=0)"
   ]
  },
  {
   "cell_type": "code",
   "execution_count": 34,
   "metadata": {},
   "outputs": [
    {
     "data": {
      "text/html": [
       "<div>\n",
       "<style scoped>\n",
       "    .dataframe tbody tr th:only-of-type {\n",
       "        vertical-align: middle;\n",
       "    }\n",
       "\n",
       "    .dataframe tbody tr th {\n",
       "        vertical-align: top;\n",
       "    }\n",
       "\n",
       "    .dataframe thead th {\n",
       "        text-align: right;\n",
       "    }\n",
       "</style>\n",
       "<table border=\"1\" class=\"dataframe\">\n",
       "  <thead>\n",
       "    <tr style=\"text-align: right;\">\n",
       "      <th></th>\n",
       "      <th>0</th>\n",
       "    </tr>\n",
       "  </thead>\n",
       "  <tbody>\n",
       "    <tr>\n",
       "      <th>Name</th>\n",
       "      <td>A. Mac Allister</td>\n",
       "    </tr>\n",
       "    <tr>\n",
       "      <th>Age</th>\n",
       "      <td>19</td>\n",
       "    </tr>\n",
       "    <tr>\n",
       "      <th>Nationality</th>\n",
       "      <td>Argentina</td>\n",
       "    </tr>\n",
       "    <tr>\n",
       "      <th>Overall</th>\n",
       "      <td>72</td>\n",
       "    </tr>\n",
       "    <tr>\n",
       "      <th>Potential</th>\n",
       "      <td>86</td>\n",
       "    </tr>\n",
       "    <tr>\n",
       "      <th>Club</th>\n",
       "      <td>Argentinos Juniors</td>\n",
       "    </tr>\n",
       "    <tr>\n",
       "      <th>Value</th>\n",
       "      <td>€6.5M</td>\n",
       "    </tr>\n",
       "    <tr>\n",
       "      <th>Wage</th>\n",
       "      <td>€15K</td>\n",
       "    </tr>\n",
       "    <tr>\n",
       "      <th>Position</th>\n",
       "      <td>CM|CAM|On Loan</td>\n",
       "    </tr>\n",
       "  </tbody>\n",
       "</table>\n",
       "</div>"
      ],
      "text/plain": [
       "                              0\n",
       "Name            A. Mac Allister\n",
       "Age                          19\n",
       "Nationality           Argentina\n",
       "Overall                      72\n",
       "Potential                    86\n",
       "Club         Argentinos Juniors\n",
       "Value                     €6.5M\n",
       "Wage                       €15K\n",
       "Position         CM|CAM|On Loan"
      ]
     },
     "execution_count": 34,
     "metadata": {},
     "output_type": "execute_result"
    }
   ],
   "source": [
    "FF18 = pd.DataFrame(FF18, columns=interesting_columns)\n",
    "FF18.head(1).T"
   ]
  },
  {
   "cell_type": "code",
   "execution_count": 35,
   "metadata": {},
   "outputs": [
    {
     "data": {
      "text/html": [
       "<div>\n",
       "<style scoped>\n",
       "    .dataframe tbody tr th:only-of-type {\n",
       "        vertical-align: middle;\n",
       "    }\n",
       "\n",
       "    .dataframe tbody tr th {\n",
       "        vertical-align: top;\n",
       "    }\n",
       "\n",
       "    .dataframe thead th {\n",
       "        text-align: right;\n",
       "    }\n",
       "</style>\n",
       "<table border=\"1\" class=\"dataframe\">\n",
       "  <thead>\n",
       "    <tr style=\"text-align: right;\">\n",
       "      <th></th>\n",
       "      <th>Name</th>\n",
       "      <th>Age</th>\n",
       "      <th>Nationality</th>\n",
       "      <th>Overall</th>\n",
       "      <th>Potential</th>\n",
       "      <th>Club</th>\n",
       "      <th>Value</th>\n",
       "      <th>Wage</th>\n",
       "      <th>Position</th>\n",
       "      <th>League</th>\n",
       "    </tr>\n",
       "  </thead>\n",
       "  <tbody>\n",
       "    <tr>\n",
       "      <th>0</th>\n",
       "      <td>A. Wan-Bissaka</td>\n",
       "      <td>20</td>\n",
       "      <td>England</td>\n",
       "      <td>78</td>\n",
       "      <td>86</td>\n",
       "      <td>Crystal Palace</td>\n",
       "      <td>€13M</td>\n",
       "      <td>€36K</td>\n",
       "      <td>RB</td>\n",
       "      <td>English Premier League</td>\n",
       "    </tr>\n",
       "    <tr>\n",
       "      <th>1</th>\n",
       "      <td>W. Zaha</td>\n",
       "      <td>25</td>\n",
       "      <td>Ivory Coast</td>\n",
       "      <td>82</td>\n",
       "      <td>85</td>\n",
       "      <td>Crystal Palace</td>\n",
       "      <td>€28.5M</td>\n",
       "      <td>€78K</td>\n",
       "      <td>CF|LM</td>\n",
       "      <td>English Premier League</td>\n",
       "    </tr>\n",
       "    <tr>\n",
       "      <th>2</th>\n",
       "      <td>M. Batshuayi</td>\n",
       "      <td>24</td>\n",
       "      <td>Belgium</td>\n",
       "      <td>80</td>\n",
       "      <td>83</td>\n",
       "      <td>Crystal Palace</td>\n",
       "      <td>€19M</td>\n",
       "      <td>€105K</td>\n",
       "      <td>ST|On Loan</td>\n",
       "      <td>English Premier League</td>\n",
       "    </tr>\n",
       "  </tbody>\n",
       "</table>\n",
       "</div>"
      ],
      "text/plain": [
       "             Name  Age  Nationality  Overall  Potential            Club  \\\n",
       "0  A. Wan-Bissaka   20      England       78         86  Crystal Palace   \n",
       "1         W. Zaha   25  Ivory Coast       82         85  Crystal Palace   \n",
       "2    M. Batshuayi   24      Belgium       80         83  Crystal Palace   \n",
       "\n",
       "    Value   Wage    Position                  League  \n",
       "0    €13M   €36K          RB  English Premier League  \n",
       "1  €28.5M   €78K       CF|LM  English Premier League  \n",
       "2    €19M  €105K  ST|On Loan  English Premier League  "
      ]
     },
     "execution_count": 35,
     "metadata": {},
     "output_type": "execute_result"
    }
   ],
   "source": [
    "premier_league['League'] = 'English Premier League'\n",
    "prem_teams = FF18.merge(premier_league, on=[\"Club\"])\n",
    "prem_teams = prem_teams[prem_teams.Club.isin(premier_league.Club)]\n",
    "FF18 = prem_teams\n",
    "FF18.head(3)"
   ]
  },
  {
   "cell_type": "code",
   "execution_count": 36,
   "metadata": {},
   "outputs": [],
   "source": [
    "FF18.fillna(value=0, inplace=True)\n",
    "FF18.dropna(inplace=True)"
   ]
  },
  {
   "cell_type": "code",
   "execution_count": 37,
   "metadata": {},
   "outputs": [],
   "source": [
    "# Supporting function for converting string values into numbers\n",
    "import re\n",
    "def str2number(amount):\n",
    "    if amount[-1] == 'M':\n",
    "        amount = float(re.sub('[^\\d\\.]', '', amount))\n",
    "        return float(amount)*1000000\n",
    "    elif amount[-1] == 'K':\n",
    "        amount = float(re.sub('[^\\d\\.]', '', amount))\n",
    "        return float(amount)*1000\n",
    "    else:\n",
    "        amount = float(re.sub('[^\\d\\.]', '', amount))\n",
    "        return float(amount)\n",
    "    \n",
    "FF18['ValueNum'] = FF18['Value'].apply(lambda x: str2number(x))\n",
    "FF18['WageNum'] = FF18['Wage'].apply(lambda x: str2number(x))"
   ]
  },
  {
   "cell_type": "code",
   "execution_count": 38,
   "metadata": {},
   "outputs": [
    {
     "data": {
      "text/html": [
       "<div>\n",
       "<style scoped>\n",
       "    .dataframe tbody tr th:only-of-type {\n",
       "        vertical-align: middle;\n",
       "    }\n",
       "\n",
       "    .dataframe tbody tr th {\n",
       "        vertical-align: top;\n",
       "    }\n",
       "\n",
       "    .dataframe thead th {\n",
       "        text-align: right;\n",
       "    }\n",
       "</style>\n",
       "<table border=\"1\" class=\"dataframe\">\n",
       "  <thead>\n",
       "    <tr style=\"text-align: right;\">\n",
       "      <th></th>\n",
       "      <th>0</th>\n",
       "    </tr>\n",
       "  </thead>\n",
       "  <tbody>\n",
       "    <tr>\n",
       "      <th>Name</th>\n",
       "      <td>A. Wan-Bissaka</td>\n",
       "    </tr>\n",
       "    <tr>\n",
       "      <th>Age</th>\n",
       "      <td>20</td>\n",
       "    </tr>\n",
       "    <tr>\n",
       "      <th>Nationality</th>\n",
       "      <td>England</td>\n",
       "    </tr>\n",
       "    <tr>\n",
       "      <th>Overall</th>\n",
       "      <td>78</td>\n",
       "    </tr>\n",
       "    <tr>\n",
       "      <th>Potential</th>\n",
       "      <td>86</td>\n",
       "    </tr>\n",
       "    <tr>\n",
       "      <th>Club</th>\n",
       "      <td>Crystal Palace</td>\n",
       "    </tr>\n",
       "    <tr>\n",
       "      <th>Value</th>\n",
       "      <td>€13M</td>\n",
       "    </tr>\n",
       "    <tr>\n",
       "      <th>Wage</th>\n",
       "      <td>€36K</td>\n",
       "    </tr>\n",
       "    <tr>\n",
       "      <th>Position</th>\n",
       "      <td>RB</td>\n",
       "    </tr>\n",
       "    <tr>\n",
       "      <th>League</th>\n",
       "      <td>English Premier League</td>\n",
       "    </tr>\n",
       "    <tr>\n",
       "      <th>ValueNum</th>\n",
       "      <td>1.3e+07</td>\n",
       "    </tr>\n",
       "    <tr>\n",
       "      <th>WageNum</th>\n",
       "      <td>36000</td>\n",
       "    </tr>\n",
       "  </tbody>\n",
       "</table>\n",
       "</div>"
      ],
      "text/plain": [
       "                                  0\n",
       "Name                 A. Wan-Bissaka\n",
       "Age                              20\n",
       "Nationality                 England\n",
       "Overall                          78\n",
       "Potential                        86\n",
       "Club                 Crystal Palace\n",
       "Value                          €13M\n",
       "Wage                           €36K\n",
       "Position                         RB\n",
       "League       English Premier League\n",
       "ValueNum                    1.3e+07\n",
       "WageNum                       36000"
      ]
     },
     "execution_count": 38,
     "metadata": {},
     "output_type": "execute_result"
    }
   ],
   "source": [
    "FF18.head(1).T"
   ]
  },
  {
   "cell_type": "code",
   "execution_count": 39,
   "metadata": {
    "scrolled": true
   },
   "outputs": [
    {
     "data": {
      "image/png": "[encoded data removed]",
      "text/plain": [
       "<Figure size 1296x720 with 1 Axes>"
      ]
     },
     "metadata": {
      "needs_background": "light"
     },
     "output_type": "display_data"
    }
   ],
   "source": [
    "plt.figure(figsize=(18, 10))\n",
    "FF18.groupby('Age')['Age'].count().plot(kind='bar', width=1)\n",
    "plt.show()"
   ]
  },
  {
   "cell_type": "code",
   "execution_count": 40,
   "metadata": {},
   "outputs": [
    {
     "data": {
      "image/png": "[encoded data removed]",
      "text/plain": [
       "<Figure size 1152x576 with 1 Axes>"
      ]
     },
     "metadata": {
      "needs_background": "light"
     },
     "output_type": "display_data"
    }
   ],
   "source": [
    "plt.figure(figsize=(16,8))\n",
    "teams = FF18.groupby('League')['Name'].count().reset_index()\n",
    "teams = teams.sort_values('Name', ascending=False).head(10)\n",
    "plt.barh(teams['League'], teams['Name'], align='center', alpha=0.5)\n",
    "plt.title('Top 10 Leagues', fontsize=30)\n",
    "plt.show()"
   ]
  },
  {
   "cell_type": "code",
   "execution_count": 41,
   "metadata": {},
   "outputs": [],
   "source": [
    "def get_best_squad_n(formation, league, measurement = 'Overall'):\n",
    "    FF18_copy = FF18.copy()\n",
    "    FF18_copy = FF18_copy[FF18_copy['League'] == league]\n",
    "    store = []\n",
    "    for i in formation:\n",
    "        store.append([\n",
    "            FF18_copy.loc[[FF18_copy[FF18_copy['Position'].str.contains(i)][measurement].idxmax()]]['Position'].to_string(index = False),\n",
    "            FF18_copy.loc[[FF18_copy[FF18_copy['Position'].str.contains(i)][measurement].idxmax()]]['Name'].to_string(index = False), \n",
    "            FF18_copy[FF18_copy['Position'].str.contains(i)][measurement].max(),\n",
    "            FF18_copy.loc[[FF18_copy[FF18_copy['Position'].str.contains(i)][measurement].idxmax()]]['Age'].to_string(index = False),\n",
    "            FF18_copy.loc[[FF18_copy[FF18_copy['Position'].str.contains(i)][measurement].idxmax()]]['Club'].to_string(index = False),\n",
    "            FF18_copy.loc[[FF18_copy[FF18_copy['Position'].str.contains(i)][measurement].idxmax()]]['Value'].to_string(index = False),\n",
    "            FF18_copy.loc[[FF18_copy[FF18_copy['Position'].str.contains(i)][measurement].idxmax()]]['Wage'].to_string(index = False)\n",
    "        ])\n",
    "        FF18_copy.drop(FF18_copy[FF18_copy['Position'].str.contains(i)][measurement].idxmax(), inplace = True)\n",
    "    return np.mean([x[2] for x in store]).round(2), pd.DataFrame(np.array(store).reshape(11,7), columns = ['Position', 'Player', measurement, 'Age', 'Club', 'Value', 'Wage']).to_string(index = False)"
   ]
  },
  {
   "cell_type": "code",
   "execution_count": 42,
   "metadata": {},
   "outputs": [],
   "source": [
    "def get_summary_n(squad_list, squad_name, league_list):\n",
    "    summary = []\n",
    "    for i in league_list:\n",
    "        count = 0\n",
    "        for j in squad_list:\n",
    "            # for overall rating\n",
    "            O_temp_rating, _  = get_best_squad_n(formation = j, league = i, measurement = 'Overall') \n",
    "            summary.append([i, squad_name[count], O_temp_rating.round(2)])    \n",
    "            count += 1\n",
    "    return summary"
   ]
  },
  {
   "cell_type": "code",
   "execution_count": 43,
   "metadata": {},
   "outputs": [],
   "source": [
    "squad_343_strict = ['GK', 'CB', 'CB', 'CB', 'RB|RWB', 'CM|CDM', 'CM|CDM', 'LB|LWB', 'RM|RW', 'ST|CF', 'LM|LW']\n",
    "squad_442_strict = ['GK', 'RB|RWB', 'CB', 'CB', 'LB|LWB', 'RM', 'CM|CDM', 'CM|CAM', 'LM', 'ST|CF', 'ST|CF']\n",
    "squad_4312_strict = ['GK', 'RB|RWB', 'CB', 'CB', 'LB|LWB', 'CM|CDM', 'CM|CAM|CDM', 'CM|CAM|CDM', 'CAM|CF', 'ST|CF', 'ST|CF']\n",
    "squad_433_strict = ['GK', 'RB|RWB', 'CB', 'CB', 'LB|LWB', 'CM|CDM', 'CM|CAM|CDM', 'CM|CAM|CDM', 'RM|RW', 'ST|CF', 'LM|LW']\n",
    "squad_4231_strict = ['GK', 'RB|RWB', 'CB', 'CB', 'LB|LWB', 'CM|CDM', 'CM|CDM', 'RM|RW', 'CAM', 'LM|LW', 'ST|CF']\n",
    "squad_list = [squad_343_strict, squad_442_strict, squad_4312_strict, squad_433_strict, squad_4231_strict]\n",
    "squad_name = ['3-4-3', '4-4-2', '4-3-1-2', '4-3-3', '4-2-3-1']\n"
   ]
  },
  {
   "cell_type": "code",
   "execution_count": 44,
   "metadata": {},
   "outputs": [
    {
     "data": {
      "text/html": [
       "<div>\n",
       "<style scoped>\n",
       "    .dataframe tbody tr th:only-of-type {\n",
       "        vertical-align: middle;\n",
       "    }\n",
       "\n",
       "    .dataframe tbody tr th {\n",
       "        vertical-align: top;\n",
       "    }\n",
       "\n",
       "    .dataframe thead th {\n",
       "        text-align: right;\n",
       "    }\n",
       "</style>\n",
       "<table border=\"1\" class=\"dataframe\">\n",
       "  <thead>\n",
       "    <tr style=\"text-align: right;\">\n",
       "      <th></th>\n",
       "      <th>Name</th>\n",
       "      <th>Age</th>\n",
       "      <th>Nationality</th>\n",
       "      <th>Overall</th>\n",
       "      <th>Potential</th>\n",
       "      <th>Club</th>\n",
       "      <th>Value</th>\n",
       "      <th>Wage</th>\n",
       "      <th>Position</th>\n",
       "      <th>League</th>\n",
       "      <th>ValueNum</th>\n",
       "      <th>WageNum</th>\n",
       "    </tr>\n",
       "  </thead>\n",
       "  <tbody>\n",
       "    <tr>\n",
       "      <th>0</th>\n",
       "      <td>A. Wan-Bissaka</td>\n",
       "      <td>20</td>\n",
       "      <td>England</td>\n",
       "      <td>78</td>\n",
       "      <td>86</td>\n",
       "      <td>Crystal Palace</td>\n",
       "      <td>€13M</td>\n",
       "      <td>€36K</td>\n",
       "      <td>RB</td>\n",
       "      <td>English Premier League</td>\n",
       "      <td>13000000.0</td>\n",
       "      <td>36000.0</td>\n",
       "    </tr>\n",
       "    <tr>\n",
       "      <th>1</th>\n",
       "      <td>W. Zaha</td>\n",
       "      <td>25</td>\n",
       "      <td>Ivory Coast</td>\n",
       "      <td>82</td>\n",
       "      <td>85</td>\n",
       "      <td>Crystal Palace</td>\n",
       "      <td>€28.5M</td>\n",
       "      <td>€78K</td>\n",
       "      <td>CF|LM</td>\n",
       "      <td>English Premier League</td>\n",
       "      <td>28500000.0</td>\n",
       "      <td>78000.0</td>\n",
       "    </tr>\n",
       "    <tr>\n",
       "      <th>2</th>\n",
       "      <td>M. Batshuayi</td>\n",
       "      <td>24</td>\n",
       "      <td>Belgium</td>\n",
       "      <td>80</td>\n",
       "      <td>83</td>\n",
       "      <td>Crystal Palace</td>\n",
       "      <td>€19M</td>\n",
       "      <td>€105K</td>\n",
       "      <td>ST|On Loan</td>\n",
       "      <td>English Premier League</td>\n",
       "      <td>19000000.0</td>\n",
       "      <td>105000.0</td>\n",
       "    </tr>\n",
       "    <tr>\n",
       "      <th>3</th>\n",
       "      <td>A. Townsend</td>\n",
       "      <td>26</td>\n",
       "      <td>England</td>\n",
       "      <td>78</td>\n",
       "      <td>78</td>\n",
       "      <td>Crystal Palace</td>\n",
       "      <td>€11M</td>\n",
       "      <td>€55K</td>\n",
       "      <td>RM|CF</td>\n",
       "      <td>English Premier League</td>\n",
       "      <td>11000000.0</td>\n",
       "      <td>55000.0</td>\n",
       "    </tr>\n",
       "    <tr>\n",
       "      <th>4</th>\n",
       "      <td>L. Milivojević</td>\n",
       "      <td>27</td>\n",
       "      <td>Serbia</td>\n",
       "      <td>80</td>\n",
       "      <td>81</td>\n",
       "      <td>Crystal Palace</td>\n",
       "      <td>€14M</td>\n",
       "      <td>€59K</td>\n",
       "      <td>CDM|CM</td>\n",
       "      <td>English Premier League</td>\n",
       "      <td>14000000.0</td>\n",
       "      <td>59000.0</td>\n",
       "    </tr>\n",
       "  </tbody>\n",
       "</table>\n",
       "</div>"
      ],
      "text/plain": [
       "             Name  Age  Nationality  Overall  Potential            Club  \\\n",
       "0  A. Wan-Bissaka   20      England       78         86  Crystal Palace   \n",
       "1         W. Zaha   25  Ivory Coast       82         85  Crystal Palace   \n",
       "2    M. Batshuayi   24      Belgium       80         83  Crystal Palace   \n",
       "3     A. Townsend   26      England       78         78  Crystal Palace   \n",
       "4  L. Milivojević   27       Serbia       80         81  Crystal Palace   \n",
       "\n",
       "    Value   Wage    Position                  League    ValueNum   WageNum  \n",
       "0    €13M   €36K          RB  English Premier League  13000000.0   36000.0  \n",
       "1  €28.5M   €78K       CF|LM  English Premier League  28500000.0   78000.0  \n",
       "2    €19M  €105K  ST|On Loan  English Premier League  19000000.0  105000.0  \n",
       "3    €11M   €55K       RM|CF  English Premier League  11000000.0   55000.0  \n",
       "4    €14M   €59K      CDM|CM  English Premier League  14000000.0   59000.0  "
      ]
     },
     "execution_count": 44,
     "metadata": {},
     "output_type": "execute_result"
    }
   ],
   "source": [
    "FF18.head(5)"
   ]
  },
  {
   "cell_type": "code",
   "execution_count": 45,
   "metadata": {},
   "outputs": [
    {
     "name": "stdout",
     "output_type": "stream",
     "text": [
      "              Nationality    Squad Overall\n",
      "0  English Premier League    3-4-3   87.64\n",
      "1  English Premier League    4-4-2   87.82\n",
      "2  English Premier League  4-3-1-2   88.36\n",
      "3  English Premier League    4-3-3   88.18\n",
      "4  English Premier League  4-2-3-1   88.09\n",
      "-Overall-\n",
      "Average rating: 88.2\n",
      "Position            Player Overall  Age                Club    Value    Wage\n",
      "      GK         H. Lloris      88   31   Tottenham Hotspur     €36M   €150K\n",
      "   RB|CB       Azpilicueta      85   28             Chelsea   €30.5M   €160K\n",
      "      CB       V. van Dijk      89   26           Liverpool     €67M   €225K\n",
      "      CB   T. Alderweireld      87   29   Tottenham Hotspur     €39M   €165K\n",
      "   CB|LB        A. Laporte      86   24     Manchester City   €47.5M   €160K\n",
      "  CAM|CM      K. De Bruyne      91   27     Manchester City     €93M   €355K\n",
      "  CAM|CM       David Silva      90   32     Manchester City     €60M   €285K\n",
      "  CDM|CM          N. Kanté      89   27             Chelsea     €63M   €225K\n",
      "   RW|LW       R. Sterling      87   23     Manchester City     €62M   €210K\n",
      "      ST           H. Kane      90   24   Tottenham Hotspur   €96.5M   €210K\n",
      "   ST|LM     P. Aubameyang      88   29             Arsenal     €59M   €265K\n"
     ]
    }
   ],
   "source": [
    "for league in teams['League']:\n",
    "    c = pd.DataFrame(np.array(get_summary_n(squad_list, squad_name, [league])), columns = ['Nationality', 'Squad', 'Overall']) \n",
    "    print(c)\n",
    "    rating_433_Overall, best_list_433_Overall = get_best_squad_n(squad_433_strict, league, 'Overall')\n",
    "    print('-Overall-')\n",
    "    print('Average rating: {:.1f}'.format(rating_433_Overall))\n",
    "    print(best_list_433_Overall)\n"
   ]
  },
  {
   "cell_type": "code",
   "execution_count": null,
   "metadata": {},
   "outputs": [],
   "source": []
  }
 ],
 "metadata": {
  "kernelspec": {
   "display_name": "Python 3",
   "language": "python",
   "name": "python3"
  },
  "language_info": {
   "codemirror_mode": {
    "name": "ipython",
    "version": 3
   },
   "file_extension": ".py",
   "mimetype": "text/x-python",
   "name": "python",
   "nbconvert_exporter": "python",
   "pygments_lexer": "ipython3",
   "version": "3.7.3"
  }
 },
 "nbformat": 4,
 "nbformat_minor": 2
}
